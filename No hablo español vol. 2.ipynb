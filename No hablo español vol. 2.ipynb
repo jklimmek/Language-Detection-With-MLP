{
 "cells": [
  {
   "cell_type": "markdown",
   "metadata": {},
   "source": [
    "# Natural Language Detector"
   ]
  },
  {
   "cell_type": "markdown",
   "metadata": {},
   "source": [
    "Dense neural network for language detection. Model is capable of predicting one of 17 learned languages for a given sentence. Dataset consists of over 10k labeled sentences. Each sentence was vectorized using trigram technique and fed to neural net. Accuracy of the model is over 96% on test dataset."
   ]
  },
  {
   "cell_type": "code",
   "execution_count": 1,
   "metadata": {},
   "outputs": [],
   "source": [
    "import keras\n",
    "from tensorflow.keras import optimizers\n",
    "from tensorflow.keras import layers\n",
    "from tensorflow.keras import callbacks\n",
    "from tensorflow.keras import metrics\n",
    "from tensorflow.keras import regularizers\n",
    "from keras.wrappers.scikit_learn import KerasClassifier\n",
    "\n",
    "from sklearn.feature_extraction.text import CountVectorizer\n",
    "from sklearn.preprocessing import LabelEncoder, MinMaxScaler\n",
    "from sklearn.model_selection import train_test_split, cross_val_score, StratifiedKFold, RandomizedSearchCV\n",
    "from sklearn.metrics import confusion_matrix, classification_report\n",
    "\n",
    "import pandas as pd\n",
    "import numpy as np\n",
    "import seaborn as sns\n",
    "import matplotlib.pyplot as plt"
   ]
  },
  {
   "cell_type": "code",
   "execution_count": 2,
   "metadata": {},
   "outputs": [
    {
     "data": {
      "text/html": [
       "<div>\n",
       "<style scoped>\n",
       "    .dataframe tbody tr th:only-of-type {\n",
       "        vertical-align: middle;\n",
       "    }\n",
       "\n",
       "    .dataframe tbody tr th {\n",
       "        vertical-align: top;\n",
       "    }\n",
       "\n",
       "    .dataframe thead th {\n",
       "        text-align: right;\n",
       "    }\n",
       "</style>\n",
       "<table border=\"1\" class=\"dataframe\">\n",
       "  <thead>\n",
       "    <tr style=\"text-align: right;\">\n",
       "      <th></th>\n",
       "      <th>Text</th>\n",
       "      <th>Language</th>\n",
       "    </tr>\n",
       "  </thead>\n",
       "  <tbody>\n",
       "    <tr>\n",
       "      <th>3976</th>\n",
       "      <td>c'est la meilleure vidéo pour commencer, alors...</td>\n",
       "      <td>French</td>\n",
       "    </tr>\n",
       "    <tr>\n",
       "      <th>674</th>\n",
       "      <td>[302] During the COVID-19 pandemic, Wikipedia'...</td>\n",
       "      <td>English</td>\n",
       "    </tr>\n",
       "    <tr>\n",
       "      <th>8624</th>\n",
       "      <td>väldigt suave så smart ord nummer fyra är grym...</td>\n",
       "      <td>Sweedish</td>\n",
       "    </tr>\n",
       "    <tr>\n",
       "      <th>1732</th>\n",
       "      <td>വിരലുകൾ മറികടന്നു.</td>\n",
       "      <td>Malayalam</td>\n",
       "    </tr>\n",
       "    <tr>\n",
       "      <th>5373</th>\n",
       "      <td>y no entendiste lo que decía la otra persona, ...</td>\n",
       "      <td>Spanish</td>\n",
       "    </tr>\n",
       "  </tbody>\n",
       "</table>\n",
       "</div>"
      ],
      "text/plain": [
       "                                                   Text   Language\n",
       "3976  c'est la meilleure vidéo pour commencer, alors...     French\n",
       "674   [302] During the COVID-19 pandemic, Wikipedia'...    English\n",
       "8624  väldigt suave så smart ord nummer fyra är grym...   Sweedish\n",
       "1732                                 വിരലുകൾ മറികടന്നു.  Malayalam\n",
       "5373  y no entendiste lo que decía la otra persona, ...    Spanish"
      ]
     },
     "execution_count": 2,
     "metadata": {},
     "output_type": "execute_result"
    }
   ],
   "source": [
    "# read dataframe\n",
    "df = pd.read_csv('Language Detection.csv', sep=',', encoding='utf-8')\n",
    "df.sample(5)"
   ]
  },
  {
   "cell_type": "code",
   "execution_count": 3,
   "metadata": {},
   "outputs": [],
   "source": [
    "# remove digits\n",
    "df['Text'] = df['Text'].str.replace('[0-9]','')\n",
    "\n",
    "# strip punctuation\n",
    "df['Text'] = df['Text'].str.replace('[^\\w\\s]','')\n",
    "\n",
    "# remove extra spaces\n",
    "df['Text'] = df['Text'].str.strip()\n",
    "\n",
    "# to lower\n",
    "df['Text'] = df['Text'].str.lower()"
   ]
  },
  {
   "cell_type": "code",
   "execution_count": 4,
   "metadata": {},
   "outputs": [],
   "source": [
    "# get labels\n",
    "names = df['Language'].unique()\n",
    "\n",
    "# count sentences for each label\n",
    "counts = df['Language'].value_counts().to_numpy()"
   ]
  },
  {
   "cell_type": "code",
   "execution_count": 5,
   "metadata": {},
   "outputs": [],
   "source": [
    "# create list with legths of sentences\n",
    "seq_lens = df['Text'].apply(lambda x: len(x.split())).to_numpy()\n",
    "\n",
    "# calculate max saequence length\n",
    "max_len = int(np.mean(seq_lens) + 2*np.std(seq_lens))\n",
    "\n",
    "# cut Texts to max len\n",
    "df['Text'] = df['Text'].apply(lambda x: ' '.join(x.split()[:max_len]))"
   ]
  },
  {
   "cell_type": "code",
   "execution_count": 6,
   "metadata": {},
   "outputs": [
    {
     "name": "stdout",
     "output_type": "stream",
     "text": [
      "max seqience length:\t\t 111\n",
      "no. of sequences untruncated:\t 10304\n",
      "no. of sequences truncated:\t 33\n"
     ]
    }
   ],
   "source": [
    "# print some basic statistics\n",
    "print('max seqience length:\\t\\t', max_len)\n",
    "print('no. of sequences untruncated:\\t', np.sum(seq_lens < max_len))\n",
    "print('no. of sequences truncated:\\t', np.sum(seq_lens >= max_len))"
   ]
  },
  {
   "cell_type": "code",
   "execution_count": 7,
   "metadata": {},
   "outputs": [
    {
     "data": {
      "text/html": [
       "<div>\n",
       "<style scoped>\n",
       "    .dataframe tbody tr th:only-of-type {\n",
       "        vertical-align: middle;\n",
       "    }\n",
       "\n",
       "    .dataframe tbody tr th {\n",
       "        vertical-align: top;\n",
       "    }\n",
       "\n",
       "    .dataframe thead th {\n",
       "        text-align: right;\n",
       "    }\n",
       "</style>\n",
       "<table border=\"1\" class=\"dataframe\">\n",
       "  <thead>\n",
       "    <tr style=\"text-align: right;\">\n",
       "      <th></th>\n",
       "      <th>Text</th>\n",
       "      <th>Language</th>\n",
       "      <th>Length</th>\n",
       "    </tr>\n",
       "  </thead>\n",
       "  <tbody>\n",
       "    <tr>\n",
       "      <th>3446</th>\n",
       "      <td>wikipédia écouter est une encyclopédie univers...</td>\n",
       "      <td>French</td>\n",
       "      <td>17</td>\n",
       "    </tr>\n",
       "    <tr>\n",
       "      <th>7971</th>\n",
       "      <td>testte tek bir soruyu cevaplamak için ya da cö...</td>\n",
       "      <td>Turkish</td>\n",
       "      <td>33</td>\n",
       "    </tr>\n",
       "    <tr>\n",
       "      <th>9352</th>\n",
       "      <td>اعتن بنفسك</td>\n",
       "      <td>Arabic</td>\n",
       "      <td>2</td>\n",
       "    </tr>\n",
       "    <tr>\n",
       "      <th>135</th>\n",
       "      <td>the human ecosystem concept is based on the hu...</td>\n",
       "      <td>English</td>\n",
       "      <td>32</td>\n",
       "    </tr>\n",
       "    <tr>\n",
       "      <th>6130</th>\n",
       "      <td>открытый характер модели редактирования являет...</td>\n",
       "      <td>Russian</td>\n",
       "      <td>11</td>\n",
       "    </tr>\n",
       "  </tbody>\n",
       "</table>\n",
       "</div>"
      ],
      "text/plain": [
       "                                                   Text Language  Length\n",
       "3446  wikipédia écouter est une encyclopédie univers...   French      17\n",
       "7971  testte tek bir soruyu cevaplamak için ya da cö...  Turkish      33\n",
       "9352                                         اعتن بنفسك   Arabic       2\n",
       "135   the human ecosystem concept is based on the hu...  English      32\n",
       "6130  открытый характер модели редактирования являет...  Russian      11"
      ]
     },
     "execution_count": 7,
     "metadata": {},
     "output_type": "execute_result"
    }
   ],
   "source": [
    "# add new column with length of sentence\n",
    "df['Length'] = df['Text'].apply(lambda x: len(x.split(' '))).to_numpy()\n",
    "df.sample(5)"
   ]
  },
  {
   "cell_type": "code",
   "execution_count": 8,
   "metadata": {},
   "outputs": [],
   "source": [
    "def show_values_on_bars(axs, h_v='v', space=0.4, height=0):\n",
    "    '''\n",
    "    function used to show values on top of bars\n",
    "    \n",
    "    axs:    axis to draw values on\n",
    "    h_v:    whether bars on plots are vertical or horizontal\n",
    "    space:  space between value on top of bar (only in vertical plot)\n",
    "    height: space between value on top of bar (only in horizontal plot)\n",
    "    '''\n",
    "    \n",
    "    def _show_on_single_plot(ax):\n",
    "        \n",
    "        # vertical axis\n",
    "        if h_v == 'v':\n",
    "            for p in ax.patches:\n",
    "                _x = p.get_x() + p.get_width() / 2\n",
    "                _y = p.get_y() + p.get_height() + height\n",
    "                value = int(p.get_height())\n",
    "                ax.text(_x, _y, value, ha='center') \n",
    "                \n",
    "        # horizontal axis\n",
    "        elif h_v == 'h':\n",
    "            for p in ax.patches:\n",
    "                _x = p.get_x() + p.get_width() + float(space)\n",
    "                _y = p.get_y() + p.get_height() / 4\n",
    "                value = int(p.get_width())\n",
    "                ax.text(_x, _y, value, ha='left')\n",
    "                \n",
    "    # multiple plots\n",
    "    if isinstance(axs, np.ndarray):\n",
    "        for idx, ax in np.ndenumerate(axs):\n",
    "            _show_on_single_plot(ax)\n",
    "    \n",
    "    # single plot\n",
    "    else:\n",
    "        _show_on_single_plot(axs)"
   ]
  },
  {
   "cell_type": "code",
   "execution_count": 9,
   "metadata": {
    "scrolled": false
   },
   "outputs": [
    {
     "data": {
      "image/png": "[encoded data removed]",
      "text/plain": [
       "<Figure size 1080x360 with 2 Axes>"
      ]
     },
     "metadata": {
      "needs_background": "light"
     },
     "output_type": "display_data"
    }
   ],
   "source": [
    "# visualize how many sequences belong to each class\n",
    "# and length of sentences\n",
    "fig, (ax1, ax2) = plt.subplots(1, 2, figsize=(15, 5))\n",
    "\n",
    "sns.countplot(x='Language', data=df, color='cornflowerblue', ax=ax1)\n",
    "ax1.set_title('Language Value Counts', size=15)\n",
    "ax1.set_xticklabels(names, rotation=45, rotation_mode=\"anchor\", ha=\"right\")\n",
    "ax1.set_ylabel('no. of sequences')\n",
    "show_values_on_bars(ax1, height=15)\n",
    "\n",
    "sns.histplot(df['Length'], binwidth=1, color='cornflowerblue')\n",
    "ax2.set_title('Lengths of Sequences', size=15)\n",
    "ax2.set_xlabel('Length')\n",
    "\n",
    "plt.show()"
   ]
  },
  {
   "cell_type": "code",
   "execution_count": 10,
   "metadata": {},
   "outputs": [
    {
     "data": {
      "image/png": "[encoded data removed]",
      "text/plain": [
       "<Figure size 864x504 with 1 Axes>"
      ]
     },
     "metadata": {
      "needs_background": "light"
     },
     "output_type": "display_data"
    }
   ],
   "source": [
    "# show mean sentence length based on language \n",
    "plt.figure(figsize=(12, 7))\n",
    "plot = df.groupby('Language').agg('mean').astype('int').unstack().plot.barh(color='cornflowerblue')\n",
    "plt.title('Mean Sentence Lengths', size=15)\n",
    "plt.xlabel('Length')\n",
    "plt.ylabel('Language')\n",
    "show_values_on_bars(plot, h_v='h')\n",
    "plt.show()"
   ]
  },
  {
   "cell_type": "code",
   "execution_count": 11,
   "metadata": {},
   "outputs": [],
   "source": [
    "# divide into input and output\n",
    "X, y = df['Text'], df['Language']"
   ]
  },
  {
   "cell_type": "code",
   "execution_count": 12,
   "metadata": {},
   "outputs": [
    {
     "data": {
      "text/plain": [
       "array(['Arabic', 'Danish', 'Dutch', 'English', 'French', 'German',\n",
       "       'Greek', 'Hindi', 'Italian', 'Kannada', 'Malayalam', 'Portugeese',\n",
       "       'Russian', 'Spanish', 'Sweedish', 'Tamil', 'Turkish'], dtype=object)"
      ]
     },
     "execution_count": 12,
     "metadata": {},
     "output_type": "execute_result"
    }
   ],
   "source": [
    "# create and fit encoder on labels\n",
    "encoder = LabelEncoder()\n",
    "encoder.fit(names)\n",
    "encoder.classes_"
   ]
  },
  {
   "cell_type": "code",
   "execution_count": 13,
   "metadata": {},
   "outputs": [],
   "source": [
    "def generate_trigrams(df, names, num_features=200):\n",
    "    '''\n",
    "    function used to generate trigrams of length 3 from given dataset\n",
    "    from each language only n most common trigrams are extracted\n",
    "    \n",
    "    df:           input dataframe\n",
    "    names:        labels\n",
    "    num_features: how many trigrams to extract\n",
    "    '''\n",
    "    \n",
    "    # combined trigrams from all classes\n",
    "    trigrams = []\n",
    "    \n",
    "    # instantiate vectorizer\n",
    "    vectorizer = CountVectorizer(ngram_range=(3,3),\n",
    "                                analyzer='char',\n",
    "                                dtype='int32',\n",
    "                                max_features=num_features)\n",
    "    \n",
    "    # loop over labels\n",
    "    for name in names:\n",
    "        \n",
    "        # select all sentences from one language\n",
    "        rows = df[df['Language'] == name]['Text']\n",
    "        \n",
    "        # fit vectorizer with sentences\n",
    "        vectorizer.fit(rows)\n",
    "        \n",
    "        # get extracted trigrams\n",
    "        grams = vectorizer.get_feature_names()\n",
    "        \n",
    "        # append to returned array\n",
    "        trigrams += grams\n",
    "        \n",
    "    return trigrams"
   ]
  },
  {
   "cell_type": "code",
   "execution_count": 14,
   "metadata": {},
   "outputs": [],
   "source": [
    "# generate trigrams from train set\n",
    "trigrams = generate_trigrams(df, names)"
   ]
  },
  {
   "cell_type": "code",
   "execution_count": 15,
   "metadata": {},
   "outputs": [],
   "source": [
    "# vectorizer containing all trigrams\n",
    "vectorizer = CountVectorizer(ngram_range=(3,3),\n",
    "                             analyzer='char',\n",
    "                             dtype='int32')"
   ]
  },
  {
   "cell_type": "code",
   "execution_count": 16,
   "metadata": {},
   "outputs": [],
   "source": [
    "# fit on created trigrams\n",
    "vectorizer.fit(trigrams)\n",
    "\n",
    "# vectorize train set\n",
    "X = vectorizer.transform(X)"
   ]
  },
  {
   "cell_type": "code",
   "execution_count": 17,
   "metadata": {},
   "outputs": [
    {
     "data": {
      "text/plain": [
       "[' a ', ' aa', ' af', ' al', ' an', ' ar', ' as', ' at', ' au', ' av']"
      ]
     },
     "execution_count": 17,
     "metadata": {},
     "output_type": "execute_result"
    }
   ],
   "source": [
    "# example trigrams\n",
    "vectorizer.get_feature_names()[:10]"
   ]
  },
  {
   "cell_type": "code",
   "execution_count": 18,
   "metadata": {},
   "outputs": [],
   "source": [
    "# scaler used for better results\n",
    "scaler = MinMaxScaler()\n",
    "\n",
    "# scale values to [0, 1]\n",
    "X_scaled = scaler.fit_transform(X.toarray())"
   ]
  },
  {
   "cell_type": "code",
   "execution_count": 19,
   "metadata": {},
   "outputs": [
    {
     "data": {
      "text/plain": [
       "((10337, 2356), (10337,))"
      ]
     },
     "execution_count": 19,
     "metadata": {},
     "output_type": "execute_result"
    }
   ],
   "source": [
    "# create dataframe with vectorized train set\n",
    "x_df = pd.DataFrame(X_scaled, columns=vectorizer.get_feature_names())\n",
    "\n",
    "# labels\n",
    "y_encoded = encoder.transform(y)\n",
    "\n",
    "x_df.to_numpy().shape, y_encoded.shape"
   ]
  },
  {
   "cell_type": "code",
   "execution_count": 20,
   "metadata": {},
   "outputs": [
    {
     "data": {
      "text/plain": [
       "(7468, 1318, 1551)"
      ]
     },
     "execution_count": 20,
     "metadata": {},
     "output_type": "execute_result"
    }
   ],
   "source": [
    "# split into train, val, test datasets\n",
    "# stratify is used when dataset is imbalanced\n",
    "\n",
    "x_train, x_test, y_train, y_test = train_test_split(x_df, \n",
    "                                                    y_encoded, \n",
    "                                                    train_size=0.85, \n",
    "                                                    shuffle=True, \n",
    "                                                    stratify=y, \n",
    "                                                    random_state=2018)\n",
    "\n",
    "x_train, x_val, y_train, y_val = train_test_split(x_train, \n",
    "                                                  y_train, \n",
    "                                                  train_size=0.85, \n",
    "                                                  shuffle=True, \n",
    "                                                  stratify=y_train, \n",
    "                                                  random_state=2018)\n",
    "\n",
    "# print sizes of sets\n",
    "len(x_train), len(x_val), len(x_test)"
   ]
  },
  {
   "cell_type": "code",
   "execution_count": 23,
   "metadata": {},
   "outputs": [],
   "source": [
    "def create_model(units=16, \n",
    "                 dropout=0.3, \n",
    "                 activation='relu', \n",
    "                 optimizer='adam', \n",
    "                 regularization=None):\n",
    "    \n",
    "    model = keras.Sequential(\n",
    "        [\n",
    "            layers.Input(shape=(x_df.shape[1], )),\n",
    "            \n",
    "            layers.Dense(units=units, \n",
    "                         activation=activation, \n",
    "                         kernel_regularizer=regularization),\n",
    "            \n",
    "            layers.Dropout(dropout),\n",
    "            \n",
    "            layers.Dense(units=units, \n",
    "                         activation=activation, \n",
    "                         kernel_regularizer=regularization),\n",
    "            \n",
    "            layers.Dropout(dropout),\n",
    "            \n",
    "            layers.Dense(len(names), activation='softmax')\n",
    "            \n",
    "        ], name='Sequential_model_vol_1'\n",
    "    )\n",
    "\n",
    "    model.compile(loss='sparse_categorical_crossentropy', \n",
    "                  optimizer=optimizer, \n",
    "                  metrics=[\n",
    "                      metrics.SparseCategoricalAccuracy(name='accuracy'), \n",
    "                      metrics.SparseTopKCategoricalAccuracy(k=3, name='top-3-accuracy')\n",
    "                  ]\n",
    "    )\n",
    "    return model"
   ]
  },
  {
   "cell_type": "code",
   "execution_count": 24,
   "metadata": {},
   "outputs": [],
   "source": [
    "params = {\n",
    "    'units': 8,\n",
    "    'dropout': 0.2,\n",
    "    'activation': 'relu',\n",
    "    'optimizer': optimizers.Adam(),\n",
    "}"
   ]
  },
  {
   "cell_type": "code",
   "execution_count": 24,
   "metadata": {},
   "outputs": [],
   "source": [
    "build_fn must be callable so lambda is necessary\n",
    "wrapped_model = KerasClassifier(build_fn=lambda : create_model(**params), \n",
    "                                epochs=20, \n",
    "                                batch_size=128, \n",
    "                                shuffle=True,\n",
    "                                verbose=0)"
   ]
  },
  {
   "cell_type": "code",
   "execution_count": 25,
   "metadata": {
    "scrolled": false
   },
   "outputs": [],
   "source": [
    "# calculate score from cross validation\n",
    "model_score = cross_val_score(wrapped_model, \n",
    "                              x_train, \n",
    "                              y_train, \n",
    "                              cv=StratifiedKFold(n_splits=10, shuffle=True, random_state=2018), \n",
    "                              scoring=\"accuracy\", \n",
    ")"
   ]
  },
  {
   "cell_type": "code",
   "execution_count": 26,
   "metadata": {},
   "outputs": [
    {
     "name": "stdout",
     "output_type": "stream",
     "text": [
      "Mean Stratified 10-Fold Cross Validation:  0.9175\n"
     ]
    }
   ],
   "source": [
    "print('Mean Stratified 10-Fold Cross Validation: ', round(model_score.mean(), 4))"
   ]
  },
  {
   "cell_type": "markdown",
   "metadata": {},
   "source": [
    "### Small Randomized Grid Search"
   ]
  },
  {
   "cell_type": "code",
   "execution_count": 39,
   "metadata": {},
   "outputs": [],
   "source": [
    "# dummy parameter space\n",
    "param_grid = {\n",
    "    'units': [32, 64, 128],\n",
    "    'dropout': [0.2, 0.3, 0.5],\n",
    "    'activation': ['relu', 'sigmoid'],\n",
    "    'optimizer': [optimizers.Adam(), optimizers.SGD(), optimizers.RMSprop()],\n",
    "    'regularization': [None, regularizers.l2(), regularizers.l1(), regularizers.l1_l2()],\n",
    "}"
   ]
  },
  {
   "cell_type": "code",
   "execution_count": 40,
   "metadata": {},
   "outputs": [],
   "source": [
    "w_model = KerasClassifier(create_model)"
   ]
  },
  {
   "cell_type": "code",
   "execution_count": 41,
   "metadata": {},
   "outputs": [],
   "source": [
    "cv_clf = RandomizedSearchCV(\n",
    "    estimator=KerasClassifier(create_model),\n",
    "    param_distributions=param_grid, \n",
    "    scoring='accuracy',\n",
    "    verbose=1,\n",
    "    n_jobs=-1,\n",
    "    cv=10\n",
    ")"
   ]
  },
  {
   "cell_type": "code",
   "execution_count": 1,
   "metadata": {
    "scrolled": true
   },
   "outputs": [],
   "source": [
    "# sometimes does not work :v \n",
    "# cv_clf.fit(x_train, y_train, verbose=0)"
   ]
  },
  {
   "cell_type": "code",
   "execution_count": 43,
   "metadata": {},
   "outputs": [
    {
     "data": {
      "text/plain": [
       "{'units': 64,\n",
       " 'regularization': None,\n",
       " 'optimizer': <keras.optimizer_v2.adam.Adam at 0x1dad028a6d8>,\n",
       " 'dropout': 0.5,\n",
       " 'activation': 'relu'}"
      ]
     },
     "execution_count": 43,
     "metadata": {},
     "output_type": "execute_result"
    }
   ],
   "source": [
    "cv_clf.best_params_"
   ]
  },
  {
   "cell_type": "code",
   "execution_count": 66,
   "metadata": {},
   "outputs": [],
   "source": [
    "# best parameters \n",
    "best_params = {\n",
    "    'units': 64,\n",
    "    'regularization': None,\n",
    "    'optimizer': optimizers.Adam(),\n",
    "    'dropout': 0.5,\n",
    "    'activation': 'relu', \n",
    "}"
   ]
  },
  {
   "cell_type": "code",
   "execution_count": 67,
   "metadata": {},
   "outputs": [
    {
     "name": "stdout",
     "output_type": "stream",
     "text": [
      "Model: \"Sequential_model_vol_1\"\n",
      "_________________________________________________________________\n",
      "Layer (type)                 Output Shape              Param #   \n",
      "=================================================================\n",
      "dense_48 (Dense)             (None, 64)                150848    \n",
      "_________________________________________________________________\n",
      "dropout_32 (Dropout)         (None, 64)                0         \n",
      "_________________________________________________________________\n",
      "dense_49 (Dense)             (None, 64)                4160      \n",
      "_________________________________________________________________\n",
      "dropout_33 (Dropout)         (None, 64)                0         \n",
      "_________________________________________________________________\n",
      "dense_50 (Dense)             (None, 17)                1105      \n",
      "=================================================================\n",
      "Total params: 156,113\n",
      "Trainable params: 156,113\n",
      "Non-trainable params: 0\n",
      "_________________________________________________________________\n"
     ]
    }
   ],
   "source": [
    "model = create_model(**best_params)\n",
    "model.summary()"
   ]
  },
  {
   "cell_type": "markdown",
   "metadata": {},
   "source": [
    "### Training & Results"
   ]
  },
  {
   "cell_type": "code",
   "execution_count": 68,
   "metadata": {},
   "outputs": [],
   "source": [
    "# reduce learning rate \n",
    "reduce_lr = callbacks.ReduceLROnPlateau(\n",
    "    monitor=\"val_loss\", factor=0.5, patience=5\n",
    ")\n",
    "\n",
    "# stop if overfitting\n",
    "early_stopping = callbacks.EarlyStopping(\n",
    "    monitor=\"val_loss\", patience=10, restore_best_weights=True\n",
    ")"
   ]
  },
  {
   "cell_type": "code",
   "execution_count": 69,
   "metadata": {
    "scrolled": true
   },
   "outputs": [],
   "source": [
    "# training\n",
    "his = model.fit(x_train, \n",
    "                y_train, \n",
    "                epochs=50, \n",
    "                batch_size=128, \n",
    "                shuffle=True, \n",
    "                validation_data=(x_val, y_val), \n",
    "                callbacks=[reduce_lr, early_stopping], \n",
    "                verbose=0)"
   ]
  },
  {
   "cell_type": "code",
   "execution_count": 42,
   "metadata": {},
   "outputs": [],
   "source": [
    "model.save('model_64.h5')"
   ]
  },
  {
   "cell_type": "code",
   "execution_count": 70,
   "metadata": {},
   "outputs": [
    {
     "data": {
      "image/png": "[encoded data removed]",
      "text/plain": [
       "<Figure size 1440x360 with 3 Axes>"
      ]
     },
     "metadata": {
      "needs_background": "light"
     },
     "output_type": "display_data"
    }
   ],
   "source": [
    "# plot training results\n",
    "fig, axs = plt.subplots(1, 3, figsize=(20, 5))\n",
    "axs[0].plot(his.history['loss'], label='loss')\n",
    "axs[0].plot(his.history['val_loss'], label='val_loss')\n",
    "axs[0].set_title('Training Loss')\n",
    "axs[0].legend()\n",
    "\n",
    "axs[1].plot(his.history['accuracy'], label='accuracy')\n",
    "axs[1].plot(his.history['val_accuracy'], label='val_accuracy')\n",
    "axs[1].set_title('Training Accuracy')\n",
    "axs[1].legend()\n",
    "\n",
    "axs[2].plot(his.history['top-3-accuracy'], label='top-3-accuracy')\n",
    "axs[2].plot(his.history['val_top-3-accuracy'], label='val_top-3-accuracy')\n",
    "axs[2].set_title('Training Top-3-Accuracy')\n",
    "axs[2].legend()\n",
    "\n",
    "plt.show()"
   ]
  },
  {
   "cell_type": "code",
   "execution_count": 71,
   "metadata": {},
   "outputs": [
    {
     "name": "stdout",
     "output_type": "stream",
     "text": [
      "Test Accuracy:\t\t 0.967\n",
      "Test Top-3-Accuracy:\t 0.989\n"
     ]
    }
   ],
   "source": [
    "_, acc, top3acc = model.evaluate(x_test, y_test, verbose=0)\n",
    "print('Test Accuracy:\\t\\t', round(acc, 3))\n",
    "print('Test Top-3-Accuracy:\\t', round(top3acc, 3))"
   ]
  },
  {
   "cell_type": "code",
   "execution_count": 73,
   "metadata": {},
   "outputs": [],
   "source": [
    "# create confusion matrix\n",
    "logits = model.predict(x_test)\n",
    "argmax = np.argmax(logits, axis=1)\n",
    "\n",
    "y_pred = encoder.inverse_transform(argmax)\n",
    "y_actual = encoder.inverse_transform(y_test)\n",
    "matrix = confusion_matrix(y_actual, y_pred)"
   ]
  },
  {
   "cell_type": "code",
   "execution_count": 74,
   "metadata": {},
   "outputs": [
    {
     "data": {
      "image/png": "[encoded data removed]",
      "text/plain": [
       "<Figure size 720x720 with 1 Axes>"
      ]
     },
     "metadata": {
      "needs_background": "light"
     },
     "output_type": "display_data"
    }
   ],
   "source": [
    "# plot confusion matrix\n",
    "plt.figure(figsize=(10, 10))\n",
    "plt.title('Confusion Matrix', size=20)\n",
    "ax = sns.heatmap(matrix, square=True, xticklabels=encoder.classes_, yticklabels=encoder.classes_, \n",
    "            cmap=\"summer\", annot=True, linewidths=1, fmt='g', cbar=False)\n",
    "ax.set_xlabel('Predicted')\n",
    "ax.set_ylabel('True')\n",
    "bottom, top = ax.get_ylim()\n",
    "ax.set_ylim(bottom+0.5, top-0.5);"
   ]
  },
  {
   "cell_type": "code",
   "execution_count": 75,
   "metadata": {},
   "outputs": [
    {
     "name": "stdout",
     "output_type": "stream",
     "text": [
      "              precision    recall  f1-score   support\n",
      "\n",
      "      Arabic       1.00      0.96      0.98        80\n",
      "      Danish       0.96      0.86      0.91        64\n",
      "       Dutch       0.95      0.95      0.95        82\n",
      "     English       0.97      0.99      0.98       208\n",
      "      French       0.99      0.97      0.98       152\n",
      "      German       1.00      0.97      0.99        71\n",
      "       Greek       1.00      0.96      0.98        55\n",
      "       Hindi       1.00      1.00      1.00        10\n",
      "     Italian       0.96      0.95      0.96       105\n",
      "     Kannada       0.81      1.00      0.89        55\n",
      "   Malayalam       1.00      0.98      0.99        89\n",
      "  Portugeese       0.96      0.97      0.97       111\n",
      "     Russian       1.00      0.98      0.99       104\n",
      "     Spanish       0.92      0.97      0.94       123\n",
      "    Sweedish       0.97      0.96      0.97       101\n",
      "       Tamil       1.00      1.00      1.00        70\n",
      "     Turkish       0.97      0.96      0.96        71\n",
      "\n",
      "    accuracy                           0.97      1551\n",
      "   macro avg       0.97      0.97      0.97      1551\n",
      "weighted avg       0.97      0.97      0.97      1551\n",
      "\n"
     ]
    }
   ],
   "source": [
    "# print some other statistics\n",
    "print(classification_report(y_actual, y_pred))"
   ]
  },
  {
   "cell_type": "code",
   "execution_count": 41,
   "metadata": {},
   "outputs": [],
   "source": [
    "from tensorflow.keras.models import load_model\n",
    "model = load_model('model_64.h5')"
   ]
  },
  {
   "cell_type": "code",
   "execution_count": 120,
   "metadata": {},
   "outputs": [],
   "source": [
    "# requires: Model, Vectorizer, LabelEncoder, MinMaxScaler\n",
    "def classify_sentence(sentence, language=None):\n",
    "    from termcolor import colored\n",
    "    import re\n",
    "    \n",
    "    # preprocessing\n",
    "    sent = re.sub(r'[0-9]', '', sentence)\n",
    "    sent = re.sub(r'[^\\w\\s]', '', sent)\n",
    "    sent = re.sub(r' +', ' ', sent)\n",
    "    sent = sent.strip().lower()\n",
    "    \n",
    "    # prediction\n",
    "    x = vectorizer.transform([sent])\n",
    "    x = scaler.transform(x.toarray())\n",
    "    logits = model.predict(x)\n",
    "    argmax = np.argmax(logits)\n",
    "    label = encoder.inverse_transform([argmax])[0]\n",
    "    \n",
    "    # printing\n",
    "    if language is not None:\n",
    "        color = 'green' if label == language else 'red'\n",
    "    else: color = 'grey'\n",
    "    print('Sentence:\\t', sentence)\n",
    "    print('Predicted:\\t', colored(label, color))\n",
    "    if language is not None:\n",
    "        print('Actual:\\t\\t', colored(language, color))"
   ]
  },
  {
   "cell_type": "code",
   "execution_count": 115,
   "metadata": {},
   "outputs": [
    {
     "name": "stdout",
     "output_type": "stream",
     "text": [
      "Sentence:\t J'espère que ce traducteur sait quelque chose\n",
      "Predicted:\t \u001b[32mFrench\u001b[0m\n",
      "Actual:\t\t \u001b[32mFrench\u001b[0m\n"
     ]
    }
   ],
   "source": [
    "classify_sentence('J\\'espère que ce traducteur sait quelque chose', 'French')"
   ]
  },
  {
   "cell_type": "code",
   "execution_count": 116,
   "metadata": {},
   "outputs": [
    {
     "name": "stdout",
     "output_type": "stream",
     "text": [
      "Sentence:\t Adios caballeros\n",
      "Predicted:\t \u001b[32mSpanish\u001b[0m\n",
      "Actual:\t\t \u001b[32mSpanish\u001b[0m\n"
     ]
    }
   ],
   "source": [
    "classify_sentence('Adios caballeros', 'Spanish')"
   ]
  },
  {
   "cell_type": "code",
   "execution_count": 117,
   "metadata": {},
   "outputs": [
    {
     "name": "stdout",
     "output_type": "stream",
     "text": [
      "Sentence:\t короткое предложение\n",
      "Predicted:\t \u001b[32mRussian\u001b[0m\n",
      "Actual:\t\t \u001b[32mRussian\u001b[0m\n"
     ]
    }
   ],
   "source": [
    "classify_sentence('короткое предложение', 'Russian')"
   ]
  },
  {
   "cell_type": "code",
   "execution_count": 118,
   "metadata": {},
   "outputs": [
    {
     "name": "stdout",
     "output_type": "stream",
     "text": [
      "Sentence:\t ಇದು ಒಳ್ಳೆಯದಲ್ಲ ಬಾಬ್, ಇದು ಒಳ್ಳೆಯದಲ್ಲ\n",
      "Predicted:\t \u001b[32mKannada\u001b[0m\n",
      "Actual:\t\t \u001b[32mKannada\u001b[0m\n"
     ]
    }
   ],
   "source": [
    "classify_sentence('ಇದು ಒಳ್ಳೆಯದಲ್ಲ ಬಾಬ್, ಇದು ಒಳ್ಳೆಯದಲ್ಲ', 'Kannada')"
   ]
  },
  {
   "cell_type": "code",
   "execution_count": 123,
   "metadata": {},
   "outputs": [
    {
     "name": "stdout",
     "output_type": "stream",
     "text": [
      "Sentence:\t är det ens vettigt?\n",
      "Predicted:\t \u001b[32mSweedish\u001b[0m\n",
      "Actual:\t\t \u001b[32mSweedish\u001b[0m\n"
     ]
    }
   ],
   "source": [
    "classify_sentence('är det ens vettigt?', 'Sweedish')"
   ]
  },
  {
   "cell_type": "code",
   "execution_count": 119,
   "metadata": {},
   "outputs": [
    {
     "name": "stdout",
     "output_type": "stream",
     "text": [
      "Sentence:\t मैं दोपहर से पहले वापस आ जाऊंगाಲ\n",
      "Predicted:\t \u001b[31mArabic\u001b[0m\n",
      "Actual:\t\t \u001b[31mHindi\u001b[0m\n"
     ]
    }
   ],
   "source": [
    "classify_sentence('मैं दोपहर से पहले वापस आ जाऊंगाಲ', 'Hindi')"
   ]
  },
  {
   "cell_type": "code",
   "execution_count": 108,
   "metadata": {},
   "outputs": [
    {
     "name": "stdout",
     "output_type": "stream",
     "text": [
      "Sentence:\t я люблю блины\n",
      "Predicted:\t \u001b[31mKannada\u001b[0m\n",
      "Actual:\t\t \u001b[31mRussian\u001b[0m\n"
     ]
    }
   ],
   "source": [
    "classify_sentence('я люблю блины.', 'Russian')"
   ]
  },
  {
   "cell_type": "code",
   "execution_count": 105,
   "metadata": {},
   "outputs": [
    {
     "name": "stdout",
     "output_type": "stream",
     "text": [
      "Sentence:\t Boa noite!\n",
      "Predicted:\t \u001b[31mSpanish\u001b[0m\n",
      "Actual:\t\t \u001b[31mPortugeese\u001b[0m\n"
     ]
    }
   ],
   "source": [
    "classify_sentence('Boa noite!', 'Portugeese')"
   ]
  },
  {
   "cell_type": "code",
   "execution_count": 113,
   "metadata": {},
   "outputs": [
    {
     "name": "stdout",
     "output_type": "stream",
     "text": [
      "Sentence:\t I do\n",
      "Predicted:\t \u001b[31mItalian\u001b[0m\n",
      "Actual:\t\t \u001b[31mEnglish\u001b[0m\n"
     ]
    }
   ],
   "source": [
    "classify_sentence('I do!', 'English')"
   ]
  },
  {
   "cell_type": "code",
   "execution_count": 114,
   "metadata": {},
   "outputs": [
    {
     "name": "stdout",
     "output_type": "stream",
     "text": [
      "Sentence:\t qwerryty gfdihdsf vbvcbv\n",
      "Predicted:\t \u001b[30mGerman\u001b[0m\n"
     ]
    }
   ],
   "source": [
    "classify_sentence('Qwerryty gfdihdsf vbvcbv?')"
   ]
  },
  {
   "cell_type": "code",
   "execution_count": null,
   "metadata": {},
   "outputs": [],
   "source": []
  }
 ],
 "metadata": {
  "kernelspec": {
   "display_name": "Python 3",
   "language": "python",
   "name": "python3"
  },
  "language_info": {
   "codemirror_mode": {
    "name": "ipython",
    "version": 3
   },
   "file_extension": ".py",
   "mimetype": "text/x-python",
   "name": "python",
   "nbconvert_exporter": "python",
   "pygments_lexer": "ipython3",
   "version": "3.6.3"
  }
 },
 "nbformat": 4,
 "nbformat_minor": 4
}
